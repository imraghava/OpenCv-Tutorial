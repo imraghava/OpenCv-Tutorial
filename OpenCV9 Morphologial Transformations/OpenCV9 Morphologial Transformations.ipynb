{
 "cells": [
  {
   "cell_type": "markdown",
   "metadata": {},
   "source": [
    "## MORPHOLOGICAL TRANSFORMATIONS\n",
    "\n",
    "Morphological transformations are some simple operations based on the image shape. It is normally performed on binary images. It needs two inputs, one is our original image, second one is called structuring element or kernel which decides the nature of operation. Two basic morphological operators are Erosion and Dilation. Then its variant forms like Opening, Closing, Gradient etc also comes into play. \n",
    "\n",
    "They have a wide array of uses, i.e. :\n",
    "\n",
    "Removing noise\n",
    "Isolation of individual elements and joining disparate elements in an image.\n",
    "Finding of intensity bumps or holes in an image\n",
    "\n",
    "Image that we are going to use:\n",
    "![title](22.png)\n",
    "\n",
    "\n",
    "### Erosion\n",
    "\n",
    "The basic idea of erosion is just like soil erosion only, it erodes away the boundaries of foreground object (Always try to keep foreground in white). So what it does? The kernel slides through the image (as in 2D convolution). A pixel in the original image (either 1 or 0) will be considered 1 only if all the pixels under the kernel is 1, otherwise it is eroded (made to zero).\n",
    "\n",
    "So what happends is that, all the pixels near boundary will be discarded depending upon the size of kernel. So the thickness or size of the foreground object decreases or simply white region decreases in the image. It is useful for removing small white noises (as we have seen in colorspace chapter), detach two connected objects etc.\n",
    "\n",
    "Result:\n",
    "\n",
    "![title](23.png)\n",
    "\n",
    "\n",
    "### Dilation\n",
    "\n",
    "It is just opposite of erosion. Here, a pixel element is '1' if atleast one pixel under the kernel is '1'. So it increases the white region in the image or size of foreground object increases. Normally, in cases like noise removal, erosion is followed by dilation. Because, erosion removes white noises, but it also shrinks our object. So we dilate it. Since noise is gone, they won't come back, but our object area increases. It is also useful in joining broken parts of an object.\n",
    "\n",
    "Result:\n",
    "\n",
    "![title](24.png)\n",
    "\n",
    "\n",
    "### Opening\n",
    "\n",
    "Opening is just another name of erosion followed by dilation. It is useful in removing noise, as we explained above. Here we use the function, cv2.morphologyEx()\n",
    "\n",
    "Result:\n",
    "\n",
    "![title](25.png)\n",
    "\n",
    "\n",
    "### Closing\n",
    "\n",
    "Closing is reverse of Opening, Dilation followed by Erosion. It is useful in closing small holes inside the foreground objects, or small black points on the object.\n",
    "\n",
    "Result:\n",
    "\n",
    "![title](26.png)\n",
    "\n",
    "### Morphological Gradient\n",
    "\n",
    "It is the difference between dilation and erosion of an image.\n",
    "\n",
    "The result will look like the outline of the object.\n",
    "\n",
    "Result:\n",
    "\n",
    "![title](27.png)\n",
    "\n",
    "### Top Hat\n",
    "\n",
    "It is the difference between input image and Opening of the image. Below example is done for a 9x9 kernel.\n",
    "\n",
    "Result:\n",
    "\n",
    "![title](28.png)\n",
    "\n",
    "### Black Hat\n",
    "\n",
    "It is the difference between the closing of the input image and input image.\n",
    "\n",
    "Result:\n",
    "\n",
    "![title](29.png)\n",
    "\n"
   ]
  },
  {
   "cell_type": "code",
   "execution_count": 1,
   "metadata": {
    "collapsed": true
   },
   "outputs": [],
   "source": [
    "import cv2\n",
    "import numpy as np"
   ]
  },
  {
   "cell_type": "code",
   "execution_count": 2,
   "metadata": {
    "collapsed": true
   },
   "outputs": [],
   "source": [
    "img = cv2.imread(\"32.png\")"
   ]
  },
  {
   "cell_type": "code",
   "execution_count": null,
   "metadata": {
    "collapsed": true
   },
   "outputs": [],
   "source": [
    "lower_red = np.array([150 , 150 , 50])\n",
    "upper_red = np.array([180 , 255 , 150])\n",
    "\n",
    "hsv = cv2.cvtColor(img , cv2.COLOR_BGR2HSV)\n",
    "\n",
    "mask = cv2.inRange( hsv , lower_red , upper_red)\n",
    "result = cv2.bitwise_and(img , img , mask = mask)\n",
    "\n",
    "kernel = np.ones((5 , 5) , np.uint8)\n",
    "erosion = cv2.erode(mask , kernel , iterations = 1)\n",
    "#Will perform erosion on the mask and then create result image using bitwise_and.\n",
    "#Better way than performing erosion on the result directly\n",
    "\n",
    "\n",
    "dilation = cv2.dilate(mask , kernel , iterations = 1)\n",
    "\n",
    "opening = cv2.morphologyEx(mask , cv2.MORPH_OPEN , kernel)\n",
    "closing = cv2.morphologyEx(mask , cv2.MORPH_CLOSE , kernel)\n",
    "\n",
    "while True:\n",
    "    cv2.imshow('img' , img)\n",
    "    cv2.imshow('mask' , mask)\n",
    "    cv2.imshow('result' , result)\n",
    "    cv2.imshow('Erosion' , erosion)\n",
    "    cv2.imshow('Dilation' , dilation)\n",
    "    cv2.imshow('Opening' , erosion)\n",
    "    cv2.imshow('Closing' , closing)\n",
    "    \n",
    "    \n",
    "    if cv2.waitKey(1) & 0xFF == ord(\"q\"):\n",
    "        break\n",
    "cv2.destroyAllWindows()\n",
    "for i in range(5):\n",
    "    cv2.waitKey(0)\n"
   ]
  },
  {
   "cell_type": "markdown",
   "metadata": {
    "collapsed": true
   },
   "source": [
    "Image:\n",
    "\n",
    "![title](33.png)\n",
    "\n",
    "Mask:\n",
    "\n",
    "![title](34.png)\n",
    "\n",
    "Result: (bitwise_and(mask and image))\n",
    "\n",
    "![title](35.png)\n",
    "\n",
    "Erosion:\n",
    "\n",
    "![title](36.png)\n",
    "\n",
    "Dilation:\n",
    "\n",
    "![title](37.png)\n",
    "\n",
    "Opening:\n",
    "\n",
    "![title](38.png)\n",
    "\n",
    "\n",
    "Closing:\n",
    "\n",
    "![title](39.png)"
   ]
  },
  {
   "cell_type": "markdown",
   "metadata": {},
   "source": [
    "### Structuring Element Or Kernel\n",
    "\n",
    "We manually created a structuring elements in the previous examples with help of Numpy. It is rectangular shape. But in some cases, you may need elliptical/circular shaped kernels. So for this purpose, OpenCV has a function, cv2.getStructuringElement(). You just pass the shape and size of the kernel, you get the desired kernel.\n",
    "\n",
    "![title](30.png)"
   ]
  },
  {
   "cell_type": "markdown",
   "metadata": {
    "collapsed": true
   },
   "source": [
    "### Note \n",
    "\n",
    "In case wanna understand how the functions works internally , check here: http://docs.opencv.org/2.4.2/doc/tutorials/imgproc/erosion_dilatation/erosion_dilatation.html"
   ]
  },
  {
   "cell_type": "code",
   "execution_count": null,
   "metadata": {
    "collapsed": true
   },
   "outputs": [],
   "source": []
  }
 ],
 "metadata": {
  "kernelspec": {
   "display_name": "py35",
   "language": "python",
   "name": "py35"
  },
  "language_info": {
   "codemirror_mode": {
    "name": "ipython",
    "version": 3
   },
   "file_extension": ".py",
   "mimetype": "text/x-python",
   "name": "python",
   "nbconvert_exporter": "python",
   "pygments_lexer": "ipython3",
   "version": "3.5.3"
  }
 },
 "nbformat": 4,
 "nbformat_minor": 2
}
