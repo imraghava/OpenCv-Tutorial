{
 "cells": [
  {
   "cell_type": "raw",
   "metadata": {
    "collapsed": true
   },
   "source": [
    "Tensoreflow and every other similar things are basically a array-manipulation libraries in their core. Tensor is nothing but an array-like object, 8X1 , 8X1 , 8X5 million. Tensor flow is functions on array.\n"
   ]
  },
  {
   "cell_type": "code",
   "execution_count": 1,
   "metadata": {
    "collapsed": true
   },
   "outputs": [],
   "source": [
    "import tensorflow as tf"
   ]
  },
  {
   "cell_type": "code",
   "execution_count": 11,
   "metadata": {
    "collapsed": true
   },
   "outputs": [],
   "source": [
    "x1 = tf.constant(5)\n",
    "x2 = tf.constant(6)\n",
    "x3 = tf.constant([[1,2,3],[3,4,5]])  # ( 2 X 3 ) #Rank of the multiplies matrices should be >2\n",
    "x4 = tf.constant([[6],[5],[3]])   #( 3 X 2 )"
   ]
  },
  {
   "cell_type": "code",
   "execution_count": 12,
   "metadata": {
    "collapsed": true
   },
   "outputs": [],
   "source": [
    "#result = x1*x2 #this you can do but this is not the efficient way of doing this."
   ]
  },
  {
   "cell_type": "code",
   "execution_count": 13,
   "metadata": {
    "collapsed": true
   },
   "outputs": [],
   "source": [
    "result = tf.multiply(x1 , x2)"
   ]
  },
  {
   "cell_type": "code",
   "execution_count": 14,
   "metadata": {
    "collapsed": true
   },
   "outputs": [],
   "source": [
    "result1 = tf.matmul(x3,x4)"
   ]
  },
  {
   "cell_type": "code",
   "execution_count": 15,
   "metadata": {},
   "outputs": [
    {
     "name": "stdout",
     "output_type": "stream",
     "text": [
      "Tensor(\"Mul_2:0\", shape=(), dtype=int32)\n"
     ]
    }
   ],
   "source": [
    "print(result) #Abtract tensor is created in the computation graph"
   ]
  },
  {
   "cell_type": "code",
   "execution_count": 16,
   "metadata": {},
   "outputs": [
    {
     "name": "stdout",
     "output_type": "stream",
     "text": [
      "Tensor(\"MatMul_2:0\", shape=(2, 1), dtype=int32)\n"
     ]
    }
   ],
   "source": [
    "print(result1) #same here"
   ]
  },
  {
   "cell_type": "code",
   "execution_count": 17,
   "metadata": {
    "collapsed": true
   },
   "outputs": [],
   "source": [
    "sess = tf.Session() #Creating a session object"
   ]
  },
  {
   "cell_type": "code",
   "execution_count": 20,
   "metadata": {},
   "outputs": [
    {
     "data": {
      "text/plain": [
       "30"
      ]
     },
     "execution_count": 20,
     "metadata": {},
     "output_type": "execute_result"
    }
   ],
   "source": [
    "sess.run(result) #Running the session and that's when the computation inside takes place and it returns a result"
   ]
  },
  {
   "cell_type": "code",
   "execution_count": 22,
   "metadata": {},
   "outputs": [
    {
     "data": {
      "text/plain": [
       "array([[25],\n",
       "       [53]], dtype=int32)"
      ]
     },
     "execution_count": 22,
     "metadata": {},
     "output_type": "execute_result"
    }
   ],
   "source": [
    "sess.run(result1) #same here"
   ]
  },
  {
   "cell_type": "code",
   "execution_count": 23,
   "metadata": {
    "collapsed": true
   },
   "outputs": [],
   "source": [
    "#When you are done with the session, you will have to close the session\n",
    "\n",
    "sess.close()"
   ]
  },
  {
   "cell_type": "code",
   "execution_count": 24,
   "metadata": {},
   "outputs": [
    {
     "name": "stdout",
     "output_type": "stream",
     "text": [
      "30\n"
     ]
    }
   ],
   "source": [
    "#after you come out of the with loop the session will close automatically\n",
    "with tf.Session() as sess:\n",
    "    print(sess.run(result))\n",
    "    "
   ]
  },
  {
   "cell_type": "code",
   "execution_count": 25,
   "metadata": {},
   "outputs": [
    {
     "name": "stdout",
     "output_type": "stream",
     "text": [
      "30\n",
      "30\n"
     ]
    }
   ],
   "source": [
    "with tf.Session() as sess:\n",
    "    output = sess.run(result) #output here is a python variable\n",
    "    print(output)\n",
    "print(output)\n",
    "#so you have a computational graph and in the session you compute the values and save it into python variables"
   ]
  },
  {
   "cell_type": "raw",
   "metadata": {},
   "source": [
    "Two major chunks of the tensorflow are: 1. Creating the computational graph   2. Defining what will happen in the session."
   ]
  },
  {
   "cell_type": "markdown",
   "metadata": {},
   "source": [
    "# MNIST DataSet"
   ]
  },
  {
   "cell_type": "markdown",
   "metadata": {},
   "source": [
    "'''\n",
    "input >> weight >> hidden layer 1 (Activation funtion) >> weight >>\n",
    "hidden layer 2 (Activation function) >> weight >> Output\n",
    "'''\n",
    "Compare our output to intended output > using cost or loss function(cross-entropy)\n",
    "Optimization function (optimizer) > to minimize cost function (AdamOptimizer, ...SGD , AdaGrad)\n",
    "Backpropagation > Optimizer goes backwards and manipulates the weights\n",
    "\n",
    "feed forward + backprop = epoch (We will be doing that for n iterations)\n",
    "\n",
    "We are passing our data straight through , so this type or neural network is called feed-forward neural network"
   ]
  },
  {
   "cell_type": "code",
   "execution_count": 3,
   "metadata": {
    "collapsed": true
   },
   "outputs": [],
   "source": [
    "import tensorflow as tf"
   ]
  },
  {
   "cell_type": "code",
   "execution_count": 4,
   "metadata": {
    "collapsed": true
   },
   "outputs": [],
   "source": [
    "from tensorflow.examples.tutorials.mnist import input_data"
   ]
  },
  {
   "cell_type": "code",
   "execution_count": 5,
   "metadata": {},
   "outputs": [
    {
     "name": "stdout",
     "output_type": "stream",
     "text": [
      "Successfully downloaded train-images-idx3-ubyte.gz 9912422 bytes.\n",
      "Extracting /tmp/data/train-images-idx3-ubyte.gz\n",
      "Successfully downloaded train-labels-idx1-ubyte.gz 28881 bytes.\n",
      "Extracting /tmp/data/train-labels-idx1-ubyte.gz\n",
      "Successfully downloaded t10k-images-idx3-ubyte.gz 1648877 bytes.\n",
      "Extracting /tmp/data/t10k-images-idx3-ubyte.gz\n",
      "Successfully downloaded t10k-labels-idx1-ubyte.gz 4542 bytes.\n",
      "Extracting /tmp/data/t10k-labels-idx1-ubyte.gz\n"
     ]
    }
   ],
   "source": [
    "mnist = input_data.read_data_sets(\"/tmp/data/\" , one_hot = True)"
   ]
  },
  {
   "cell_type": "raw",
   "metadata": {},
   "source": [
    "ONE_HOT\n",
    "\n",
    "Here the classes is from 0-9 (digits recognition)\n",
    "In one hot encoding, the output for a particular image input will be given as \n",
    "\n",
    "0 = [1,0,0,0,0,0,0,0,0]\n",
    "1 = [0,1,0,0,0,0,0,0,0]\n",
    "2 = [0,0,1,0,0,0,0,0,0]\n",
    "3 = [0,0,0,1,0,0,0,0,0]\n",
    ".. so on"
   ]
  },
  {
   "cell_type": "code",
   "execution_count": 24,
   "metadata": {
    "collapsed": true
   },
   "outputs": [],
   "source": [
    "n_nodes_hl1 = 500\n",
    "n_nodes_hl2 = 500\n",
    "n_nodes_hl3 = 500\n",
    "\n",
    "n_classes = 10\n",
    "batch_size = 100 #We will perform the weights optimization on the batches of 100 images each out of total 10000 images\n",
    "\n",
    "x = tf.placeholder('float' , [None , 784]) \n",
    "#input data - 28X28 dimension images are inserted after flattening in one long array\n",
    "# Array = height X width, here height is none and width is 784\n",
    "y = tf.placeholder('float') #labels for the data\n",
    "\n"
   ]
  },
  {
   "cell_type": "code",
   "execution_count": 25,
   "metadata": {
    "collapsed": true
   },
   "outputs": [],
   "source": [
    "def neural_network_model(data):\n",
    "    \n",
    "    #Creating all the weights and biases for the hidden layers, choosing randomly normalized values\n",
    "    hidden_1_layer = { 'weights' : tf.Variable(tf.random_normal([784 , n_nodes_hl1])) , 'biases' : tf.Variable(tf.random_normal([n_nodes_hl1]))}\n",
    "    \n",
    "    hidden_2_layer = { 'weights' : tf.Variable(tf.random_normal([n_nodes_hl1 , n_nodes_hl2])) , 'biases' : tf.Variable(tf.random_normal([n_nodes_hl2]))}\n",
    "    \n",
    "    hidden_3_layer = { 'weights' : tf.Variable(tf.random_normal([n_nodes_hl2 , n_nodes_hl3])) , 'biases' : tf.Variable(tf.random_normal([n_nodes_hl3]))}\n",
    "    \n",
    "    output_layer = { 'weights' : tf.Variable(tf.random_normal([n_nodes_hl3 , n_classes])) , 'biases' : tf.Variable(tf.random_normal([n_classes]))}\n",
    "    \n",
    "    l1 = tf.add(tf.matmul(data, hidden_1_layer['weights']) ,  hidden_1_layer['biases'])\n",
    "    l1 = tf.nn.relu(l1)\n",
    "    \n",
    "    l2 = tf.add(tf.matmul(l1 , hidden_2_layer['weights']) ,  hidden_2_layer['biases'])\n",
    "    l2 = tf.nn.relu(l2)\n",
    "    \n",
    "    l3 = tf.add(tf.matmul(l2 , hidden_3_layer['weights']) ,  hidden_3_layer['biases'])\n",
    "    l3 = tf.nn.relu(l3)\n",
    "    \n",
    "    output = tf.add(tf.matmul(l3 , output_layer['weights']) ,  output_layer['biases'])\n",
    "    \n",
    "    return output   \n",
    "    "
   ]
  },
  {
   "cell_type": "code",
   "execution_count": 32,
   "metadata": {
    "collapsed": true
   },
   "outputs": [],
   "source": [
    "def train_neural_network(x):\n",
    "    prediction = neural_network_model(x)\n",
    "    cost = tf.reduce_mean( tf.nn.softmax_cross_entropy_with_logits(labels = y , logits = prediction)) \n",
    "    \n",
    "    #AdamOptimizer has a default learning rate = 0.01\n",
    "    optimizer = tf.train.AdamOptimizer().minimize(cost)#We are training the model and using AdamOptimizer we are minimizing the cost function\n",
    "    \n",
    "    hm_epochs = 10\n",
    "    \n",
    "    with tf.Session() as sess:\n",
    "        sess.run(tf.initialize_all_variables())\n",
    "        \n",
    "        for epoch in range(hm_epochs):\n",
    "            epoch_loss = 0\n",
    "            for _ in range(int(mnist.train.num_examples/batch_size)):\n",
    "                epoch_x , epoch_y = mnist.train.next_batch(batch_size) \n",
    "                _ , c = sess.run([optimizer , cost] , feed_dict = { x: epoch_x , y: epoch_y})\n",
    "                \n",
    "                epoch_loss += c\n",
    "            print('Epoch' , epoch , 'completes out of ' , hm_epochs , 'loss' , epoch_loss)\n",
    "                \n",
    "        correct = tf.equal(tf.argmax(prediction , 1) , tf.argmax(y , 1))\n",
    "        \n",
    "        accuracy = tf.reduce_mean(tf.cast(correct , 'float'))\n",
    "        \n",
    "        print(\"Accuracy :\" , accuracy.eval({x : mnist.test.images , y: mnist.test.labels}))\n"
   ]
  },
  {
   "cell_type": "code",
   "execution_count": 33,
   "metadata": {},
   "outputs": [
    {
     "name": "stdout",
     "output_type": "stream",
     "text": [
      "WARNING:tensorflow:From /Users/melon/anaconda3/lib/python3.6/site-packages/tensorflow/python/util/tf_should_use.py:170: initialize_all_variables (from tensorflow.python.ops.variables) is deprecated and will be removed after 2017-03-02.\n",
      "Instructions for updating:\n",
      "Use `tf.global_variables_initializer` instead.\n",
      "Epoch 0 completes out of  10 loss 1478887.64969\n",
      "Epoch 1 completes out of  10 loss 374897.719709\n",
      "Epoch 2 completes out of  10 loss 203013.482788\n",
      "Epoch 3 completes out of  10 loss 121526.819387\n",
      "Epoch 4 completes out of  10 loss 70898.1100807\n",
      "Epoch 5 completes out of  10 loss 46676.950015\n",
      "Epoch 6 completes out of  10 loss 32250.5318365\n",
      "Epoch 7 completes out of  10 loss 22982.4274815\n",
      "Epoch 8 completes out of  10 loss 20481.130365\n",
      "Epoch 9 completes out of  10 loss 16341.9270327\n",
      "Accuracy : 0.9501\n"
     ]
    }
   ],
   "source": [
    "train_neural_network(x)"
   ]
  },
  {
   "cell_type": "code",
   "execution_count": null,
   "metadata": {
    "collapsed": true
   },
   "outputs": [],
   "source": []
  },
  {
   "cell_type": "code",
   "execution_count": null,
   "metadata": {
    "collapsed": true
   },
   "outputs": [],
   "source": []
  }
 ],
 "metadata": {
  "kernelspec": {
   "display_name": "Python 3",
   "language": "python",
   "name": "python3"
  },
  "language_info": {
   "codemirror_mode": {
    "name": "ipython",
    "version": 3
   },
   "file_extension": ".py",
   "mimetype": "text/x-python",
   "name": "python",
   "nbconvert_exporter": "python",
   "pygments_lexer": "ipython3",
   "version": "3.6.1"
  }
 },
 "nbformat": 4,
 "nbformat_minor": 2
}
