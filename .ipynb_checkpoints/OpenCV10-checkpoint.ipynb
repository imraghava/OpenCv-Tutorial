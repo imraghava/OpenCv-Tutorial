{
 "cells": [
  {
   "cell_type": "markdown",
   "metadata": {},
   "source": [
    "## Image Gradient:\n",
    "\n",
    "An image gradient is a directional change in the intensity or color(pixel value in the image matrix) in an image. The gradient of the image is one of the fundamental building blocks in image processing.\n",
    "\n",
    "Mathematically, the gradient(let G) of a two-variable function (here the image intensity function) at each image point is a 2D vector with the components given by the derivatives in the horizontal( let Gx) and vertical directions (let Gy). At each image point, the gradient vector points in the direction of largest possible intensity increase, and the length of the gradient vector corresponds to the rate of change in that direction.\n",
    "\n",
    "![title](44.png)\n",
    "\n",
    "\n",
    "Since **the intensity function of a digital image is only known at discrete points, derivatives of this function cannot be defined** unless we assume that there is an underlying continuous intensity function.\n",
    "Hence all the operators actually give the approximate value of the image in X and Y direction for all channels separately.\n"
   ]
  },
  {
   "cell_type": "markdown",
   "metadata": {
    "collapsed": true
   },
   "source": [
    "## Sobel Derivative\n",
    "\n",
    "One of the most important convolutions is the computation of derivatives in an image (or an approximation to them since image function is not a continous but a dicrete function).\n",
    "\n",
    "Why do we need derivative of an image? Let's say we need to find edges in a picture and we know that there is a sharp(usually sharp) intensity change in the direction perpendicular to the edge.\n",
    "\n",
    "In the follwing image, we can see intensity change from black to white, perpendicular to the edge:\n",
    "![title](40.png)\n",
    "\n",
    "\n",
    "You can easily notice that in an edge, the pixel intensity changes in a notorious way. A good way to express changes is by using derivatives. A high change in gradient indicates a major change in the image.\n",
    "\n",
    "So edge detection can be performed by :\n",
    "We can deduce that a method to detect edges in an image can be performed by locating pixel locations where the gradient is higher than its neighbors (or to generalize, higher than a threshold).\n",
    "\n",
    "\n",
    "### SOBEL OPERATOR:\n",
    "The Sobel Operator is a discrete differentiation operator. It computes an approximation of the gradient of an image intensity function.\n",
    "The Sobel Operator combines Gaussian smoothing and differentiation.\n",
    "\n",
    "FORMULA:\n",
    "\n",
    "Assuming that the image to be operated is I:\n",
    "\n",
    "1.We calculate two derivatives: <br/>\n",
    "&nbsp;&nbsp;&nbsp;&nbsp;a.Horizontal changes: This is computed by convolving I with a kernel G_{x} with odd size. For example for a kernel size of 3, G_{x} would be computed as:\n",
    "  \n",
    "  ![title](41.png)\n",
    "  \n",
    "&nbsp;&nbsp;&nbsp;&nbsp; b.Vertical changes: This is computed by convolving I with a kernel G_{y} with odd size. For example for a kernel size of 3, G_{y} would be computed as:\n",
    "\n",
    " ![title](42.png)\n",
    " \n",
    "2.At each point of the image we calculate an approximation of the gradient in that point by combining both results above:\n",
    "\n",
    " ![title](43.png)\n",
    " \n",
    " \n",
    "**NOTE: '\\*' is used here to represent convolution not for multiplication.**\n"
   ]
  },
  {
   "cell_type": "markdown",
   "metadata": {},
   "source": [
    "## Laplacian Operator\n",
    "\n",
    "1. Sobel Operator was based on the fact that in the edge area, the pixel intensity shows a “jump” or a high variation of intensity. Getting the first derivative of the intensity, we observed that an edge is characterized by a maximum, as it can be seen in the figure:\n",
    "\n",
    "\n",
    " ![title](52.jpg)\n",
    " \n",
    "2. And...what happens if we take the second derivative?\n",
    "\n",
    "![title](53.jpg)\n",
    "\n",
    "\n",
    "You can observe that the second derivative is zero! So, we can also use this criterion to attempt to detect edges in an image. However, note that zeros will not only appear in edges (they can actually appear in other meaningless locations); this can be solved by applying filtering where needed.\n",
    "\n",
    "Formulation:\n",
    "\n",
    "1. From the explanation above, we deduce that the second derivative can be used to detect edges. Since images are “2D”, we would need to take the derivative in both dimensions. Here, the Laplacian operator comes handy.\n",
    "\n",
    "2. The Laplacian operator is defined by:\n",
    "\n",
    "![title](54.png)\n",
    "\n",
    "3. The Laplacian operator is implemented in OpenCV by the function Laplacian. In fact, since the Laplacian uses the gradient of images, it calls internally the Sobel operator to perform its computation.\n",
    "\n",
    "\n",
    "\n",
    "\n",
    "\n"
   ]
  },
  {
   "cell_type": "code",
   "execution_count": 1,
   "metadata": {
    "collapsed": true
   },
   "outputs": [],
   "source": [
    "import cv2\n",
    "import numpy as np \n"
   ]
  },
  {
   "cell_type": "code",
   "execution_count": 2,
   "metadata": {
    "collapsed": true
   },
   "outputs": [],
   "source": [
    "img = cv2.imread(\"46.png\" , cv2.IMREAD_COLOR)\n",
    "\n",
    "\"\"\"\n",
    "After loading the image the process goes in three steps:\n",
    "1. Convert the image to GRAY_SCALE\n",
    "2. Remove the noise from tha image using gaussion filter or laplacian(better results)\n",
    "3. Apply Sobel Operator on the result\n",
    "\"\"\"\n",
    "\n",
    "gray_image = cv2.cvtColor(img , cv2.COLOR_BGR2GRAY)\n",
    "\n",
    "laplacian = cv2.Laplacian(gray_image , cv2.CV_64F)\n",
    "\n",
    "#blur = cv2.GaussianBlur(gray_image , (15,15) , 0)\n",
    "\n",
    "sobelx = cv2.Sobel(laplacian,cv2.CV_64F,1,0,ksize=5)\n",
    "\n",
    "sobely = cv2.Sobel(laplacian , cv2.CV_64F , 1, 0 , ksize = 5)"
   ]
  },
  {
   "cell_type": "code",
   "execution_count": 3,
   "metadata": {},
   "outputs": [
    {
     "ename": "KeyboardInterrupt",
     "evalue": "",
     "output_type": "error",
     "traceback": [
      "\u001b[0;31m---------------------------------------------------------------------------\u001b[0m",
      "\u001b[0;31mKeyboardInterrupt\u001b[0m                         Traceback (most recent call last)",
      "\u001b[0;32m<ipython-input-3-dabb5d2fadde>\u001b[0m in \u001b[0;36m<module>\u001b[0;34m()\u001b[0m\n\u001b[1;32m      1\u001b[0m \u001b[0;32mwhile\u001b[0m \u001b[0;32mTrue\u001b[0m\u001b[0;34m:\u001b[0m\u001b[0;34m\u001b[0m\u001b[0m\n\u001b[0;32m----> 2\u001b[0;31m     \u001b[0mcv2\u001b[0m\u001b[0;34m.\u001b[0m\u001b[0mimshow\u001b[0m\u001b[0;34m(\u001b[0m\u001b[0;34m\"image\"\u001b[0m \u001b[0;34m,\u001b[0m \u001b[0mimg\u001b[0m\u001b[0;34m)\u001b[0m\u001b[0;34m\u001b[0m\u001b[0m\n\u001b[0m\u001b[1;32m      3\u001b[0m     \u001b[0mcv2\u001b[0m\u001b[0;34m.\u001b[0m\u001b[0mimshow\u001b[0m\u001b[0;34m(\u001b[0m\u001b[0;34m\"laplacian\"\u001b[0m \u001b[0;34m,\u001b[0m \u001b[0mlaplacian\u001b[0m\u001b[0;34m)\u001b[0m\u001b[0;34m\u001b[0m\u001b[0m\n\u001b[1;32m      4\u001b[0m     \u001b[0mcv2\u001b[0m\u001b[0;34m.\u001b[0m\u001b[0mimshow\u001b[0m\u001b[0;34m(\u001b[0m\u001b[0;34m\"sobelx\"\u001b[0m \u001b[0;34m,\u001b[0m \u001b[0msobelx\u001b[0m\u001b[0;34m)\u001b[0m\u001b[0;34m\u001b[0m\u001b[0m\n\u001b[1;32m      5\u001b[0m     \u001b[0mcv2\u001b[0m\u001b[0;34m.\u001b[0m\u001b[0mimshow\u001b[0m\u001b[0;34m(\u001b[0m\u001b[0;34m\"sobely\"\u001b[0m \u001b[0;34m,\u001b[0m \u001b[0msobely\u001b[0m\u001b[0;34m)\u001b[0m\u001b[0;34m\u001b[0m\u001b[0m\n",
      "\u001b[0;31mKeyboardInterrupt\u001b[0m: "
     ]
    }
   ],
   "source": [
    "while True:\n",
    "    cv2.imshow(\"image\" , img)\n",
    "    cv2.imshow(\"laplacian\" , laplacian)\n",
    "    cv2.imshow(\"sobelx\" , sobelx)\n",
    "    cv2.imshow(\"sobely\" , sobely)\n",
    "    \n",
    "    \n",
    "    if cv2.waitKey(1) & 0xFF == ord(\"q\"):\n",
    "        break\n",
    "        \n",
    "        \n",
    "cv2.destroyAllWindows()\n",
    "for i in range(5):\n",
    "    cv2.waitKey(0)\n",
    "    "
   ]
  },
  {
   "cell_type": "markdown",
   "metadata": {},
   "source": [
    "RESULT:\n",
    "\n",
    "Image:\n",
    "\n",
    "![title](46.png)\n",
    "\n",
    "Laplacian:\n",
    "\n",
    "![title](47.png)\n",
    "\n",
    "SobelX:\n",
    "\n",
    "![title](48.png)\n",
    "\n",
    "SobelY:\n",
    "\n",
    "![title](49.png)\n",
    "\n",
    "\n",
    "\n",
    "We arent able to see much difference between sobelx and sobely output. Here is an example from Google images:\n",
    "\n",
    "Sobel X : Applying Sobel Operator in the X direction\n",
    "\n",
    "![title](51.jpg)\n",
    "\n",
    "\n",
    "Sobel Y : Applying Sobel Operator in the Y direction\n",
    "\n",
    "![title](50.jpg)"
   ]
  },
  {
   "cell_type": "markdown",
   "metadata": {},
   "source": [
    "## Canny Edge Detection\n",
    "\n",
    "Applying a Sobel Operator on an image produces an image with all egdes in white and the background in black. But sobel detect/ show all the minute edges present in the image which may or may not be relevant to us. The extraction of the relevant edges and thinning them is done by Canny Edge Detection.\n",
    "\n",
    "The output of the Sobel Operator is fed into the Canny Egde Detector which produces an image with relevant edges which can be used to detect objects inside the image.\n",
    "\n",
    "\n",
    "\n"
   ]
  },
  {
   "cell_type": "code",
   "execution_count": null,
   "metadata": {
    "collapsed": true
   },
   "outputs": [],
   "source": []
  },
  {
   "cell_type": "code",
   "execution_count": null,
   "metadata": {
    "collapsed": true
   },
   "outputs": [],
   "source": []
  },
  {
   "cell_type": "code",
   "execution_count": null,
   "metadata": {
    "collapsed": true
   },
   "outputs": [],
   "source": []
  }
 ],
 "metadata": {
  "kernelspec": {
   "display_name": "py35",
   "language": "python",
   "name": "py35"
  },
  "language_info": {
   "codemirror_mode": {
    "name": "ipython",
    "version": 3
   },
   "file_extension": ".py",
   "mimetype": "text/x-python",
   "name": "python",
   "nbconvert_exporter": "python",
   "pygments_lexer": "ipython3",
   "version": "3.5.3"
  }
 },
 "nbformat": 4,
 "nbformat_minor": 2
}
