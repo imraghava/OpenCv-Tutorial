{
 "cells": [
  {
   "cell_type": "code",
   "execution_count": 2,
   "metadata": {
    "collapsed": true
   },
   "outputs": [],
   "source": [
    "import numpy as np"
   ]
  },
  {
   "cell_type": "code",
   "execution_count": 3,
   "metadata": {
    "collapsed": true
   },
   "outputs": [],
   "source": [
    "import cv2"
   ]
  },
  {
   "cell_type": "code",
   "execution_count": 7,
   "metadata": {},
   "outputs": [],
   "source": [
    "img = cv2.imread('dp.jpg' , cv2.IMREAD_COLOR)  #Reading the color image\n",
    "\n",
    "\n",
    "cv2.line( img , (0, 0) , (150 , 150) , (255 , 255 , 255) , 15)\n",
    "#In cv2, we hve BGR. In terms of color in computer the more positive value a color gets the brighter it becomes.\n",
    "#For Blue-(255 , 0 , 0). For Green , (00 , 255 , 00), For white-(225 , 255, 255). For black-(00 , 00 ,00)\n",
    "#The cv2.line() takes the following parameters: where, start coordinates, end coordinates, color (bgr), line thickness.\n",
    "\n",
    "\n",
    "cv2.rectangle(img , (15,25) , (200 , 150) ,(0 , 255, 0), 5 )\n",
    "#The parameters here are the image, the top left coordinate, bottom right coordinate, color, and line thickness.\n",
    "\n",
    "\n",
    "\n",
    "cv2.circle(img , (100 , 63) , 55 , (0 , 0 , 255) , -1) \n",
    "#The parameters here are the image/frame, the center of the circle, the radius, color, and then thickness. \n",
    "#Notice we have a -1 for thickness. \n",
    "#This means the object will actually be filled in, so we will get a filled in circle.\n",
    "\n",
    "\n",
    "\n",
    "#For polygons, we have got points and polygons connect these points and optionally\n",
    "#(plotlines , not plotting lines) forms a closed polygons\n",
    "pts = np.array([[10,5] , [20 , 30] , [70 , 20] , [50 , 10]] , np.int32)\n",
    "cv2.polylines(img , [pts] , True , (0 , 255 , 255) , 3)\n",
    "#we use cv2.polylines to draw the lines. The parameters are as follows: where is the object being drawn to, \n",
    "#the coordinates, should we \"connect\" the final and starting dot, the color, and again the thickness.\n",
    "\n",
    "#WRITING ON AN IMAGE \n",
    "font = cv2.FONT_HERSHEY_SIMPLEX\n",
    "cv2.putText( img , \"OpenCV Tuts\" , (0 , 130) , font , 1 , (200 , 255 , 255) , 2 , cv2.LINE_AA)\n",
    "#arguments - (where to put text , what to pu#t in the text, starting point of the text , \n",
    "#font , size of text(takes float values as well), color , thickness , ? ?  )\n",
    "\n",
    "\n",
    "cv2.imshow('image' , img)\n",
    "cv2.waitKey(0)\n",
    "cv2.destroyAllWindows()\n",
    "for i in range(5):\n",
    "    cv2.waitKey(1)"
   ]
  },
  {
   "cell_type": "code",
   "execution_count": null,
   "metadata": {
    "collapsed": true
   },
   "outputs": [],
   "source": []
  }
 ],
 "metadata": {
  "kernelspec": {
   "display_name": "py35",
   "language": "python",
   "name": "py35"
  },
  "language_info": {
   "codemirror_mode": {
    "name": "ipython",
    "version": 3
   },
   "file_extension": ".py",
   "mimetype": "text/x-python",
   "name": "python",
   "nbconvert_exporter": "python",
   "pygments_lexer": "ipython3",
   "version": "3.5.3"
  }
 },
 "nbformat": 4,
 "nbformat_minor": 2
}
