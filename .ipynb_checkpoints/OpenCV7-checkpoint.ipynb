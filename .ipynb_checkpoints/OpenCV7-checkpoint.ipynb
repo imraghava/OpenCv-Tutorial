{
 "cells": [
  {
   "cell_type": "markdown",
   "metadata": {},
   "source": [
    "We're going to cover how to create a sort of filter, revisiting the bitwise operations, where we will filter for specifically a certain color, attempting to just show it. "
   ]
  },
  {
   "cell_type": "code",
   "execution_count": null,
   "metadata": {
    "collapsed": true
   },
   "outputs": [],
   "source": [
    "import cv2\n",
    "import numpy as np\n",
    "\n",
    "\n",
    "cap = cv2.VideoCapture(0)"
   ]
  },
  {
   "cell_type": "markdown",
   "metadata": {},
   "source": [
    "## HSV - Hue , Saturation , Value\n",
    "\n",
    "HSV is so named for three values—Hue, Saturation and Value. This color space describes colors (hue or tint) in terms of their shade (saturation or amount of gray) and their brightness value.\n",
    "\n",
    "\n",
    "##### Hue: \n",
    "is expressed as a number from 0 to 360 degrees representing hues of red (which start at 0), yellow (starting at 60), green (starting at 120), cyan (starting at 180), blue (starting at 240) and magenta (starting at 300).\n",
    "\n",
    "##### Saturation:\n",
    "is the amount of gray from zero percent to 100 percent in the color.\n",
    "\n",
    "##### Value:\n",
    "(or brightness) works in conjunction with saturation and describes the brightness or intensity of the color from zero percent to 100 percent."
   ]
  },
  {
   "cell_type": "code",
   "execution_count": null,
   "metadata": {},
   "outputs": [],
   "source": [
    "while True :\n",
    "    _,frame = cap.read()\n",
    "    hsv = cv2.cvtColor(frame , cv2.COLOR_BGR2HSV) #Converting BGR to HSV (why? see markdown) \n",
    "    lower_red = np.array([150,150,100]) # arguments = (hue , saturation , value)\n",
    "    upper_red = np.array([180, 255 , 255])\n",
    "    \n",
    "    mask = cv2.inRange(hsv , lower_red , upper_red) \n",
    "    #mask is identical to the frame when lower_red = [0,0,0] and upper_red = [255, 255, 255]\n",
    "    #mask id basically putting white for the range specified above and black for the values outside the range\n",
    "    \n",
    "    result = cv2.bitwise_and(frame , frame , mask = mask) \n",
    "    #arguments = (where to apply, between which two to apply)\n",
    "    #This simply means whereever the value in the mask = 1 , show the color of the frame, else black\n",
    "    #Result will have color of the frame where mask was white, else black all over\n",
    "    \n",
    "    cv2.imshow(\"frame\" , frame)\n",
    "    cv2.imshow(\"mask\" , mask)\n",
    "    cv2.imshow(\"result\" , result)\n",
    "    if cv2.waitKey(1) & 0xFF == ord(\"q\"):\n",
    "        break\n",
    "        \n",
    "        \n",
    "        \n",
    "cap.release() #Camera is cleaned\n",
    "cv2.destroyAllWindows()\n",
    "for i in range(5):\n",
    "    cv2.waitKey(0)\n",
    "    \n",
    "    \n",
    "    \n",
    "\"\"\"\n",
    "#We can convert a single color to an HSV color using:\n",
    "    dark_red  = np.uint8([[[12,22,121]]])\n",
    "    dark_red = cv2.cvtColor(dark_red,cv2.COLOR_BGR2HSV)\n",
    "\"\"\"\n",
    "\n"
   ]
  },
  {
   "cell_type": "markdown",
   "metadata": {},
   "source": [
    "#### WHY CONVERT RGB(here BGR) TO HSV?\n",
    "Color vision can be processed using RGB color space or HSV color space. RGB color space\n",
    "describes colors in terms of the amount of red, green, and blue present. HSV color space\n",
    "describes colors in terms of the Hue, Saturation, and Value. In situations where color description\n",
    "plays an integral role, the HSV color model is often preferred over the RGB model. The HSV\n",
    "model describes colors similarly to how the human eye tends to perceive color. RGB defines\n",
    "color in terms of a combination of primary colors, where as, HSV describes color using more\n",
    "familiar comparisons such as color, vibrancy and brightness.\n",
    "\n",
    "\n",
    "#### IDEA BEHIND THIS CODE\n",
    "This is just an example, with reds as the target. The way this works is what we see will be anything that is between our ranges here, basically 30-255, 150-255, and 50-180. This is a for a red, but feel free to try to find your own colors. The reason why HSV works best here is because we want a range of colors, and we generally want the same-ish color in this case. Many times, a typical red will still have some green and blue, so we would have to allow for some green and some blue, but then we'd want pretty much full red. This means we'd get lower-light mixes of all colors still at this point.\n",
    "\n",
    "#### CONVERTING ONLY ONE COLOR FROM BGR TO HSV CODE EXPLAINED:\n",
    "There are built in methods to OpenCV to convert BGR to HSV. If you wanted to pick just a single color, then the BGR to HSV would be great to use. \n",
    "\n",
    "\"\"\"\n",
    "#We can convert a single color to an HSV color using:\n",
    "    dark_red  = np.uint8([[[12,22,121]]])\n",
    "    dark_red = cv2.cvtColor(dark_red,cv2.COLOR_BGR2HSV)\n",
    "\"\"\"\n",
    "\n",
    "The result here will be an HSV value that is identical to the dark_red value. This is great... but again... you run into the fundamental problem with ranges in colors vs ranges in HSV. They are just fundamentally different. You may have a legitimate use for BGR ranges, they will still work, but for detecting one \"color,\" it wont work well."
   ]
  },
  {
   "cell_type": "markdown",
   "metadata": {
    "collapsed": true
   },
   "source": [
    "![title](13.png)\n",
    "![title](14.png)\n",
    "![title](15.png)"
   ]
  },
  {
   "cell_type": "code",
   "execution_count": null,
   "metadata": {
    "collapsed": true
   },
   "outputs": [],
   "source": []
  },
  {
   "cell_type": "code",
   "execution_count": null,
   "metadata": {
    "collapsed": true
   },
   "outputs": [],
   "source": []
  }
 ],
 "metadata": {
  "kernelspec": {
   "display_name": "py35",
   "language": "python",
   "name": "py35"
  },
  "language_info": {
   "codemirror_mode": {
    "name": "ipython",
    "version": 3
   },
   "file_extension": ".py",
   "mimetype": "text/x-python",
   "name": "python",
   "nbconvert_exporter": "python",
   "pygments_lexer": "ipython3",
   "version": "3.5.3"
  }
 },
 "nbformat": 4,
 "nbformat_minor": 2
}
