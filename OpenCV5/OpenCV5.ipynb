{
 "cells": [
  {
   "cell_type": "markdown",
   "metadata": {},
   "source": [
    "#### Simple arithmetic operations that we can perform on images"
   ]
  },
  {
   "cell_type": "code",
   "execution_count": 1,
   "metadata": {
    "collapsed": true
   },
   "outputs": [],
   "source": [
    "#The first two pictures here are of equal size,keep that in mind in case of using your own pictures.\n",
    "\n",
    "import cv2\n",
    "import numpy as np"
   ]
  },
  {
   "cell_type": "code",
   "execution_count": 2,
   "metadata": {
    "collapsed": true
   },
   "outputs": [],
   "source": [
    "img1 = cv2.imread(\"3D-Matplotlib.png\")\n",
    "img2 = cv2.imread(\"mainsvmimage.png\")"
   ]
  },
  {
   "cell_type": "code",
   "execution_count": 3,
   "metadata": {},
   "outputs": [
    {
     "name": "stdout",
     "output_type": "stream",
     "text": [
      "(250, 500, 3)\n",
      "(250, 500, 3)\n"
     ]
    }
   ],
   "source": [
    "#Using identical size image\n",
    "print(img1.shape) \n",
    "#returns= number of rows , number of columns , number of channels(3 in case of RGB , none in case of gray)\n",
    "print(img2.shape)"
   ]
  },
  {
   "cell_type": "markdown",
   "metadata": {},
   "source": [
    "### Image Addition"
   ]
  },
  {
   "cell_type": "code",
   "execution_count": 4,
   "metadata": {
    "collapsed": true
   },
   "outputs": [],
   "source": [
    "#Trying to see both of the images in the same plot\n",
    "# Let's see what a simple addition will do:\n",
    "\n",
    "add = img1+img2 #This is the case why we had same size image, so that we can add the two matrices of the images directly\n",
    "cv2.imshow(\"add\" , add)\n",
    "cv2.waitKey(0)\n",
    "cv2.destroyAllWindows()\n",
    "for i in range(5):\n",
    "    cv2.waitKey(1)\n"
   ]
  },
  {
   "cell_type": "markdown",
   "metadata": {},
   "source": [
    "![title](1.png)"
   ]
  },
  {
   "cell_type": "markdown",
   "metadata": {},
   "source": [
    "Both the images have not lost any opaqueness, they are as solid as they were earlier."
   ]
  },
  {
   "cell_type": "code",
   "execution_count": 5,
   "metadata": {
    "collapsed": true
   },
   "outputs": [],
   "source": [
    "#Using the built-in operation of open cv\n",
    "\n",
    "add = cv2.add(img1, img2)\n",
    "\n",
    "cv2.imshow(\"add\" , add)\n",
    "cv2.waitKey(0)\n",
    "cv2.destroyAllWindows()\n",
    "for i in range(5):\n",
    "    cv2.waitKey(1)\n"
   ]
  },
  {
   "cell_type": "markdown",
   "metadata": {},
   "source": [
    "![title](2.png)"
   ]
  },
  {
   "cell_type": "markdown",
   "metadata": {},
   "source": [
    "Probably not the ideal here either. We can see that much of the image is very \"white.\" This is because colors are 0-255, where 255 is \"full light.\" Thus, for example: (155,211,79) + (50, 170, 200) = 205, 381, 279...translated to (205, 255,255).\n",
    "\n",
    "\n",
    "We could have done like add = cv2.add(img1/2, img2/2). Dividing the two image's pixel values by 2 and then adding them so that pixel value finally be less than 255 and we can get a better image."
   ]
  },
  {
   "cell_type": "markdown",
   "metadata": {},
   "source": [
    "### Image Blending"
   ]
  },
  {
   "cell_type": "code",
   "execution_count": 6,
   "metadata": {
    "collapsed": true
   },
   "outputs": [],
   "source": [
    "#Next, we can add images, and have each carry a different \"weight\" so to speak.\n",
    "\n",
    "weighted = cv2.addWeighted(img1 , 0.6 , img2 , 0.4 , 0)\n",
    "#For the addWeighted method, the parameters are the first image, the weight, the second image,\n",
    "#that weight, and then finally gamma, which is a measurement of light.\n",
    "\n",
    "cv2.imshow(\"weighted\" , weighted)\n",
    "cv2.waitKey(0)\n",
    "cv2.destroyAllWindows()\n",
    "for i in range(5):\n",
    "    cv2.waitKey(1)"
   ]
  },
  {
   "cell_type": "markdown",
   "metadata": {},
   "source": [
    "![tilte](3.png)"
   ]
  },
  {
   "cell_type": "code",
   "execution_count": 7,
   "metadata": {
    "collapsed": true
   },
   "outputs": [],
   "source": [
    "#Another method of imposing one imgae over the other.(Using ROI-Region of Image)\n",
    "img3 = cv2.imread(\"mainlogo.png\")"
   ]
  },
  {
   "cell_type": "markdown",
   "metadata": {},
   "source": [
    "Those are some addition options, but what if you quite literally want to add one image to another, where the newest overlaps the first? In this case, you would start with the largest, then add the smaller image(s)."
   ]
  },
  {
   "cell_type": "markdown",
   "metadata": {},
   "source": [
    "Now, we can take python(img3) logo, and place it on the original image. That would be pretty easy (basically using the same-ish code we used in the previous tutorial where we replaced the Region of Image (ROI) with a new one), but what if we just want the logo part, and not the white background? We can use the same principle as we had used before for the ROI replacement, but we need a way to \"remove\" the background of the logo, so that the white is not needlessly blocking more of the background image."
   ]
  },
  {
   "cell_type": "code",
   "execution_count": 8,
   "metadata": {
    "collapsed": true
   },
   "outputs": [],
   "source": [
    "#Removing the white background from the image\n",
    "#Putting the logo on the top left corner of image1\n",
    "\n",
    "rows , columns , channels = img3.shape\n",
    "\n",
    "#Creating a space on img1:\n",
    "roi = img1[0:rows , 0:columns] \n",
    "\n",
    "#creating mask of the logo image first\n",
    "img2gray = cv2.cvtColor(img3 , cv2.COLOR_BGR2GRAY)\n",
    "ret , mask = cv2.threshold(img2gray , 220 , 255 , cv2.THRESH_BINARY_INV)\n",
    "#it will convert all pixels to either black or white, based on a threshold value.\n",
    "#Converts all values greater than 220 to white(255) and less then 220 to black(0) hence giving all the pixels a binary value\n",
    "#In our case, the threshold is 220, but we can use other values\n",
    "#cv2.THRESH_BINARY_INV = giving binary value to the whole matrix(black and white) and then taking inverse of that(see output)  \n",
    "\n",
    "cv2.imshow('mask',mask)\n",
    "cv2.waitKey(0)\n",
    "cv2.destroyAllWindows()\n",
    "for i in range(5):\n",
    "    cv2.waitKey(1)\n",
    "\n"
   ]
  },
  {
   "cell_type": "markdown",
   "metadata": {},
   "source": [
    "![title](4.png)"
   ]
  },
  {
   "cell_type": "code",
   "execution_count": 9,
   "metadata": {
    "collapsed": true
   },
   "outputs": [],
   "source": [
    "mask_inv = cv2.bitwise_not(mask) \n",
    "#This here is the invisible part or the black part of the image\n",
    "#We will take a reference of this black part to remove the background part from the logo image\n",
    "\n",
    "#we see: mask_inv = cv2.bitwise_not(mask). This is a bitwise operation. \n",
    "#Basically, these operators are very similar to the typical ones from python, except for one, but we wont be touching it anyway here. \n",
    "#In this case, the invisible part is where the black is. Then, we can say that we want to black out this area in the first image, \n",
    "#and then take image 2 and replace it's contents in that empty spot.\n"
   ]
  },
  {
   "cell_type": "markdown",
   "metadata": {},
   "source": [
    "![title](5.png)"
   ]
  },
  {
   "cell_type": "markdown",
   "metadata": {},
   "source": [
    "The basic concept behind this is the value of color black ,it's value is 0 in OPEN_CV.So black + anycolor= anycolor because value of black is 0.\n",
    "\n",
    "Now suppose we have two images one is named img1 and other is img3. img3 contains a logo which we want to place on the img1. We create threshold and then the mask and mask_inv of img3,and also create roi of img1. Now we have to do two things to add the logo of img3 on img1. We create background of roi as img1_bg with help of : mask_inv,mask_inv will have two region one black and one white, in the white region we will put img1 part and leave black as it is-\n",
    "\n",
    "img1_bg = cv2.bitwise_and(roi,roi,mask = mask_inv)\n",
    "\n",
    "\n",
    "and in img3 we need to create the logo as foreground of roi ,\n",
    "img3_fg = cv2.bitwise_and(img3,img3,mask = mask)\n",
    "here we have used mask layer , the logo part of img3 gets filled in the white part of mask Now when we add both we get a perfect combined roi For full description and understanding visit: https://github.com/animeshsrivastava24/OPEN_CV/tree/master/L16:Overlaying%20logo%20and%20image"
   ]
  },
  {
   "cell_type": "code",
   "execution_count": 10,
   "metadata": {
    "collapsed": true
   },
   "outputs": [],
   "source": [
    "img1_bg = cv2.bitwise_and(roi , roi , mask = mask_inv)\n",
    "\n",
    "\n",
    "#cv2.bitwise_and = takes up the minimum value between the two correspoding pixel values of roi and mask_inv"
   ]
  },
  {
   "cell_type": "markdown",
   "metadata": {},
   "source": [
    "![title](6.png)"
   ]
  },
  {
   "cell_type": "code",
   "execution_count": 11,
   "metadata": {
    "collapsed": true
   },
   "outputs": [],
   "source": [
    "img3_fg = cv2.bitwise_and( img3 , img3 , mask=mask)"
   ]
  },
  {
   "cell_type": "markdown",
   "metadata": {},
   "source": [
    "![title](7.png)"
   ]
  },
  {
   "cell_type": "code",
   "execution_count": 12,
   "metadata": {
    "collapsed": true
   },
   "outputs": [],
   "source": [
    "dst = cv2.add(img1_bg , img3_fg)\n",
    "img1[0: rows , 0:columns] = dst\n",
    "\n",
    "\n",
    "cv2.imshow('img1',img1)\n",
    "cv2.waitKey(0)\n",
    "cv2.destroyAllWindows()\n",
    "for i in range(5):\n",
    "    cv2.waitKey(1)"
   ]
  },
  {
   "cell_type": "markdown",
   "metadata": {},
   "source": [
    "![title](8.png)"
   ]
  },
  {
   "cell_type": "code",
   "execution_count": null,
   "metadata": {
    "collapsed": true
   },
   "outputs": [],
   "source": []
  },
  {
   "cell_type": "code",
   "execution_count": null,
   "metadata": {
    "collapsed": true
   },
   "outputs": [],
   "source": []
  },
  {
   "cell_type": "code",
   "execution_count": null,
   "metadata": {
    "collapsed": true
   },
   "outputs": [],
   "source": []
  }
 ],
 "metadata": {
  "kernelspec": {
   "display_name": "py35",
   "language": "python",
   "name": "py35"
  },
  "language_info": {
   "codemirror_mode": {
    "name": "ipython",
    "version": 3
   },
   "file_extension": ".py",
   "mimetype": "text/x-python",
   "name": "python",
   "nbconvert_exporter": "python",
   "pygments_lexer": "ipython3",
   "version": "3.5.3"
  }
 },
 "nbformat": 4,
 "nbformat_minor": 2
}
