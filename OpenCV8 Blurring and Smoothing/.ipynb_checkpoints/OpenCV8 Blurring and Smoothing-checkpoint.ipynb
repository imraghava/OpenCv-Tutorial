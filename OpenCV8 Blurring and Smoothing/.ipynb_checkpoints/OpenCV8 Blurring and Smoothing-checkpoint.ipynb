{
 "cells": [
  {
   "cell_type": "markdown",
   "metadata": {},
   "source": [
    "### Getting Rid of Noise with Smoothing and Blurring"
   ]
  },
  {
   "cell_type": "code",
   "execution_count": 1,
   "metadata": {
    "collapsed": true
   },
   "outputs": [],
   "source": [
    "import cv2\n",
    "import numpy as np\n",
    "\n",
    "#Continued from last class\n",
    "cap = cv2.VideoCapture(0)"
   ]
  },
  {
   "cell_type": "markdown",
   "metadata": {},
   "source": [
    "#### Smoothing, also called blurring, is a simple and frequently used image processing operation.\n",
    "Four types of blurr are as follows:\n",
    "1. blur\n",
    "2. GaussianBlur\n",
    "3. medianBlur\n",
    "4. bilateralFilter\n"
   ]
  },
  {
   "cell_type": "code",
   "execution_count": null,
   "metadata": {
    "collapsed": true
   },
   "outputs": [],
   "source": [
    "while True :\n",
    "    _,frame = cap.read()\n",
    "    hsv = cv2.cvtColor(frame , cv2.COLOR_BGR2HSV) \n",
    "    lower_red = np.array([150,150,50]) \n",
    "    upper_red = np.array([180, 255 , 150])\n",
    "    \n",
    "    \n",
    "    mask = cv2.inRange(hsv , lower_red , upper_red)\n",
    "    result = cv2.bitwise_and(frame , frame , mask = mask) \n",
    "    \n",
    "    #let's apply a simple smoothing, where we do a sort of averaging per block of pixels.\n",
    "    \n",
    "    #Simple blurring/smoothing\n",
    "    kernel = np.ones((15,15) , np.float32) /225 \n",
    "    #kernel is a matrix of all ones of dimension = 15X15 and divided by total elements in the kernel, i.e , 15X15 = 225 \n",
    "    smooth = cv2.filter2D(result, -1 , kernel) \n",
    "    #arguements = (src_image, depth (-1 if src_depth taking) , kernel)\n",
    "    \n",
    "    \n",
    "    #Gaussian Blurr\n",
    "    blur = cv2.GaussianBlur(result , (15,15) , 0)\n",
    "    #arguements = (src_image, kernel_size , sigmaX(Gaussian kernel standard deviation in X direction) , sigmaY)\n",
    "    #Note - If sigmaY is set to zero then sigmaX is also taken zero , else in all cases they are computed internally\n",
    "    \n",
    "    \n",
    "    #Median Blurr\n",
    "    median = cv2.medianBlur(result , 15 )\n",
    "    #arguements = (src_image , ksize)\n",
    "    #ksize -> aperture linear size; it must be odd and greater than 1, for example: 3, 5, 7 ...\n",
    "    \n",
    "    \n",
    "    #Bilateral Filtering\n",
    "    bilateral = cv2.bilateralFilter(result , 15 , 75 , 75)\n",
    "    \n",
    "    cv2.imshow(\"frame\" , frame)\n",
    "    cv2.imshow(\"mask\" , mask)\n",
    "    cv2.imshow(\"result\" , result)\n",
    "    cv2.imshow(\"smoothed\" , smooth) #simple\n",
    "    cv2.imshow(\"blurr\" , blur) #Gaussian\n",
    "    cv2.imshow(\"median blurr\" , median) #median\n",
    "    cv2.imshow(\"bilateral\" , bilateral)\n",
    "    \n",
    "    \n",
    "    if cv2.waitKey(1) & 0xFF == ord(\"q\"):\n",
    "        break\n",
    "        \n",
    "        \n",
    "        \n",
    "cap.release() \n",
    "cv2.destroyAllWindows()\n",
    "for i in range(5):\n",
    "    cv2.waitKey(0)\n",
    "    "
   ]
  },
  {
   "cell_type": "markdown",
   "metadata": {},
   "source": [
    "Output of the above:\n",
    "    \n",
    "### simple blur\n",
    "![title](simple_blur.png)\n",
    "\n",
    "### Gaussian Blur\n",
    "![title](Gaussain_Blur.png)\n",
    "\n",
    "### Median Blur\n",
    "\n",
    "![title](median_blur.png)"
   ]
  },
  {
   "cell_type": "markdown",
   "metadata": {},
   "source": [
    "## 2D Convolution ( Image Filtering )\n",
    "\n",
    "OpenCV provides a function, **cv2.filter2D()**, to convolve a kernel with an image. As an example, we will try an averaging filter on an image. A 5x5 averaging filter kernel can be defined as follows:\n",
    "\n",
    "![title](matrix.png)\n",
    "\n",
    "Filtering with the above kernel results in the following being performed: for each pixel, a 5x5 window is centered on this pixel, all pixels falling within this window are summed up, and the result is then divided by 25. This equates to computing the average of the pixel values inside that window. This operation is performed for all the pixels in the image to produce the output filtered image.\n",
    "\n",
    "\n",
    "## Image Blurring (Image Smoothing)\n",
    "\n",
    "\n",
    "### Averaging(simple Blurring)\n",
    "This is done by convolving the image with a normalized box filter. It simply takes the average of all the pixels under kernel area and replaces the central element with this average. This is done by the function **cv2.blur()** or **cv2.boxFilter()**. Check the docs for more details about the kernel. We should specify the width and height of kernel. A 3x3 normalized box filter would look like this:\n",
    "\n",
    "![title](matrix1.png)\n",
    "\n",
    "\n",
    "\n",
    "![title](16.jpg)\n",
    "\n",
    "### Gaussian Filtering\n",
    "Mathematically, applying a **Gaussian blur to an image is the same as convolving the image with a Gaussian function.**\n",
    "The Gaussian blur is a type of image-blurring filter that uses a Gaussian function (which also expresses the normal distribution in statistics) for calculating the transformation to apply to each pixel in the image. The equation of a Gaussian function in one dimension is\n",
    "![title](102.svg)\n",
    "in two dimensions, it is the product of two such Gaussians, one in each dimension:\n",
    "![title](103.svg)\n",
    "where x is the distance from the origin in the horizontal axis, y is the distance from the origin in the vertical axis, and σ is the standard deviation of the Gaussian distribution. When applied in two dimensions, this formula produces a surface whose contours are concentric circles with a Gaussian distribution from the center point. Values from this distribution are used to build a convolution matrix which is applied to the original image. This convolution process is illustrated visually in the figure on the right. Each pixel's new value is set to a weighted average of that pixel's neighborhood. The original pixel's value receives the heaviest weight (having the highest Gaussian value) and neighboring pixels receive smaller weights as their distance to the original pixel increases. This results in a blur that preserves boundaries and edges better than other, more uniform blurring filters; see also scale space implementation.\n",
    "\n",
    "\n",
    "In this approach, instead of a box filter consisting of equal filter coefficients, a Gaussian kernel is used. It is done with the function, **cv2.GaussianBlur()**. We should specify the width and height of the kernel which should be positive and odd. We also should specify the standard deviation in the X and Y directions, sigmaX and sigmaY respectively. If only sigmaX is specified, sigmaY is taken as equal to sigmaX. If both are given as zeros, they are calculated from the kernel size. Gaussian filtering is highly effective in removing Gaussian noise from the image.\n",
    "\n",
    "If you want, you can create a Gaussian kernel with the function, **cv2.getGaussianKernel()**.\n",
    "\n",
    "\n",
    "\n",
    "\n",
    "![title](18.jpg)\n",
    "\n",
    "### Median Filtering\n",
    "\n",
    "Here, the function **cv2.medianBlur()** computes the median of all the pixels under the kernel window and the central pixel is replaced with this median value. This is highly effective in removing salt-and-pepper noise. One interesting thing to note is that, in the Gaussian and box filters, the filtered value for the central element can be a value which may not exist in the original image. However this is not the case in median filtering, since the central element is always replaced by some pixel value in the image. This reduces the noise effectively. The kernel size must be a positive odd integer.\n",
    "\n",
    "In this demo, we add a 50% noise to our original image and use a median filter.\n",
    "\n",
    "\n",
    "\n",
    "![title](19.jpg)\n",
    "\n",
    "### Bilateral Filtering\n",
    "**cv2.bilateralFilter()** is highly effective in noise removal while keeping edges sharp. But the operation is slower compared to other filters. We already saw that gaussian filter takes the a neighbourhood around the pixel and find its gaussian weighted average. This gaussian filter is a function of space alone, that is, nearby pixels are considered while filtering. It doesn't consider whether pixels have almost same intensity. It doesn't consider whether pixel is an edge pixel or not. So it blurs the edges also, which we don't want to do.\n",
    "\n",
    "Bilateral filter also takes a gaussian filter in space, but one more gaussian filter which is a function of pixel difference. Gaussian function of space make sure only nearby pixels are considered for blurring while gaussian function of intensity difference make sure only those pixels with similar intensity to central pixel is considered for blurring. So it preserves the edges since pixels at edges will have large intensity variation\n",
    "\n",
    "\n",
    "\n",
    "\n",
    "\n",
    "![title](20.jpg)\n"
   ]
  },
  {
   "cell_type": "markdown",
   "metadata": {},
   "source": [
    "### We have not given each arguement to be passed to the filter.We have not sent a few optional arguements.\n",
    "See documentation for the same: http://docs.opencv.org/3.1.0/d4/d86/group__imgproc__filter.html#ga564869aa33e58769b4469101aac458f9"
   ]
  },
  {
   "cell_type": "code",
   "execution_count": null,
   "metadata": {
    "collapsed": true
   },
   "outputs": [],
   "source": []
  }
 ],
 "metadata": {
  "kernelspec": {
   "display_name": "py35",
   "language": "python",
   "name": "py35"
  },
  "language_info": {
   "codemirror_mode": {
    "name": "ipython",
    "version": 3
   },
   "file_extension": ".py",
   "mimetype": "text/x-python",
   "name": "python",
   "nbconvert_exporter": "python",
   "pygments_lexer": "ipython3",
   "version": "3.5.3"
  }
 },
 "nbformat": 4,
 "nbformat_minor": 2
}
