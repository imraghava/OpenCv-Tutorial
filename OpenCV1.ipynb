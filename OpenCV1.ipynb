{
 "cells": [
  {
   "cell_type": "code",
   "execution_count": 2,
   "metadata": {
    "collapsed": true
   },
   "outputs": [],
   "source": [
    "import cv2"
   ]
  },
  {
   "cell_type": "code",
   "execution_count": 3,
   "metadata": {
    "collapsed": true
   },
   "outputs": [],
   "source": [
    "import numpy as np"
   ]
  },
  {
   "cell_type": "code",
   "execution_count": 4,
   "metadata": {
    "collapsed": true
   },
   "outputs": [],
   "source": [
    "cap = cv2.VideoCapture(0) #0 means the first webcam of your system , 1 means the second webcam\n",
    "#In some cases, you may actually want to record, and save the recording to a new file use cv2.VideoWriter() in those cases\n",
    "\n",
    "#width , height of the captured frame\n",
    "width = int(cap.get(cv2.CAP_PROP_FRAME_WIDTH))   # float is returned\n",
    "height = int(cap.get(cv2.CAP_PROP_FRAME_HEIGHT))\n",
    "\n",
    "\n",
    "# video recorder\n",
    "fourcc = cv2.VideoWriter_fourcc(*'MJPG') \n",
    "out = cv2.VideoWriter(\"output.avi\", fourcc, 20.0, (width, height))\n",
    "\n",
    "\n",
    "#out = cv2.VideoWriter(\"output.avi\" , fourcc , 20.0 , (640 , 480)) will not work as width, height \n",
    "#to be given should be same as the width height of the captured video    "
   ]
  },
  {
   "cell_type": "code",
   "execution_count": 5,
   "metadata": {},
   "outputs": [
    {
     "name": "stdout",
     "output_type": "stream",
     "text": [
      "False\n"
     ]
    }
   ],
   "source": [
    "while True:\n",
    "    ret , frame  = cap.read()\n",
    "    #ret is a boolean regarding whether or not there was a return at all,\n",
    "    #at the frame is each frame that is returned. If there is no frame, you wont get an error, you will get None.\n",
    "    #(Define ret outside the loop like ret = True and put while condition like \n",
    "    #\"while ret\" means while you keep on getting a frame keep on capturing and processing )\n",
    "    \n",
    "    #gray = cv2.cvtColor(frame , cv2.COLOR_BGR2GRAY)\n",
    "    out.write(frame)\n",
    "    cv2.imshow( \"frame\", frame) #Giving the title to the image and the image(frame) itself\n",
    "    #cv2.imshow( \"gray\", gray)\n",
    "    \n",
    "    if cv2.waitKey(1) & 0xFF == ord(\"q\"):\n",
    "        break\n",
    "    #Basically, if we get a key, and that key is a q, we will exit the while loop with a break\n",
    "        \n",
    "    \n",
    "cap.release()\n",
    "out.release()\n",
    "print(out.isOpened())\n",
    "cv2.destroyAllWindows()\n",
    "for i in range (1,5):\n",
    "    cv2.waitKey(1)#Not working\n",
    "#This releases the webcam, then closes all of the imshow() windows.\n",
    "        "
   ]
  },
  {
   "cell_type": "code",
   "execution_count": null,
   "metadata": {
    "collapsed": true
   },
   "outputs": [],
   "source": []
  },
  {
   "cell_type": "code",
   "execution_count": null,
   "metadata": {
    "collapsed": true
   },
   "outputs": [],
   "source": []
  },
  {
   "cell_type": "code",
   "execution_count": null,
   "metadata": {
    "collapsed": true
   },
   "outputs": [],
   "source": []
  }
 ],
 "metadata": {
  "kernelspec": {
   "display_name": "py35",
   "language": "python",
   "name": "py35"
  },
  "language_info": {
   "codemirror_mode": {
    "name": "ipython",
    "version": 3
   },
   "file_extension": ".py",
   "mimetype": "text/x-python",
   "name": "python",
   "nbconvert_exporter": "python",
   "pygments_lexer": "ipython3",
   "version": "3.5.3"
  }
 },
 "nbformat": 4,
 "nbformat_minor": 2
}
